{
 "cells": [
  {
   "cell_type": "markdown",
   "id": "55aa0b69",
   "metadata": {},
   "source": [
    "**Filename:** facility_location_demo2.ipynb  </br>\n",
    "**Purpose:** Build a few optimization models (location-allocation type) to answer a few business questions around geospatial location analysis </br>\n",
    "**Developer:** M. Alam </br>\n",
    "\n",
    "**Outline of this Notebook:**\n",
    "1. Data Exploration\n",
    "2. Model 1: Determine min number of facilites\n",
    "2. Model 2: Find better location for predetermined number of facilities, say 5\n",
    "3. Model 3: Minimize travelling distance\n",
    "4. Model 4: Opening new facility to a new location. Where to build?\n",
    "\n",
    "**Date:** March 31, 2023"
   ]
  },
  {
   "cell_type": "markdown",
   "id": "a204539b",
   "metadata": {},
   "source": [
    "# Data Exploration\n",
    "## Importing data"
   ]
  },
  {
   "cell_type": "code",
   "execution_count": 1,
   "id": "35058f41",
   "metadata": {},
   "outputs": [],
   "source": [
    "# Libraries and packeges\n",
    "import numpy as np\n",
    "import pandas as pd\n",
    "from matplotlib import collections as mc\n",
    "\n",
    "# Visualize demand and candidate facility locations\n",
    "import geopandas\n",
    "from geopy.distance import lonlat, distance, great_circle, geodesic\n",
    "import matplotlib.pyplot as plt\n",
    "plt.style.use('ggplot')\n",
    "\n",
    "# Optimization model related libraries\n",
    "from gurobipy import *\n",
    "from gurobipy import Model, GRB, quicksum\n",
    "from itertools import product"
   ]
  },
  {
   "cell_type": "code",
   "execution_count": 2,
   "id": "78158758",
   "metadata": {},
   "outputs": [
    {
     "name": "stdout",
     "output_type": "stream",
     "text": [
      "Unexpected exception formatting exception. Falling back to standard exception\n"
     ]
    },
    {
     "name": "stderr",
     "output_type": "stream",
     "text": [
      "Traceback (most recent call last):\n",
      "  File \"fiona\\ogrext.pyx\", line 136, in fiona.ogrext.gdal_open_vector\n",
      "  File \"fiona\\_err.pyx\", line 291, in fiona._err.exc_wrap_pointer\n",
      "fiona._err.CPLE_OpenFailedError: Unable to open Data/Jefferson_County_KY_ZIP_Codes.shx or Data/Jefferson_County_KY_ZIP_Codes.SHX. Set SHAPE_RESTORE_SHX config option to YES to restore or create it.\n",
      "\n",
      "During handling of the above exception, another exception occurred:\n",
      "\n",
      "Traceback (most recent call last):\n",
      "  File \"C:\\Users\\tanmo\\OneDrive - Dalhousie University\\Data Science portfolio 2023\\Location allocation project\\facility-location\\facility_location_env\\Lib\\site-packages\\IPython\\core\\interactiveshell.py\", line 3460, in run_code\n",
      "    exec(code_obj, self.user_global_ns, self.user_ns)\n",
      "  File \"C:\\Users\\tanmo\\AppData\\Local\\Temp\\ipykernel_15784\\511323183.py\", line 4, in <module>\n",
      "    JC = geopandas.read_file(\"Data/Jefferson_County_KY_ZIP_Codes.shp\")  # shapefile for mapping\n",
      "         ^^^^^^^^^^^^^^^^^^^^^^^^^^^^^^^^^^^^^^^^^^^^^^^^^^^^^^^^^^^^^\n",
      "  File \"C:\\Users\\tanmo\\OneDrive - Dalhousie University\\Data Science portfolio 2023\\Location allocation project\\facility-location\\facility_location_env\\Lib\\site-packages\\geopandas\\io\\file.py\", line 259, in _read_file\n",
      "    return _read_file_fiona(\n",
      "           ^^^^^^^^^^^^^^^^^\n",
      "  File \"C:\\Users\\tanmo\\OneDrive - Dalhousie University\\Data Science portfolio 2023\\Location allocation project\\facility-location\\facility_location_env\\Lib\\site-packages\\geopandas\\io\\file.py\", line 303, in _read_file_fiona\n",
      "    with reader(path_or_bytes, **kwargs) as features:\n",
      "         ^^^^^^^^^^^^^^^^^^^^^^^^^^^^^^^\n",
      "  File \"C:\\Users\\tanmo\\OneDrive - Dalhousie University\\Data Science portfolio 2023\\Location allocation project\\facility-location\\facility_location_env\\Lib\\site-packages\\fiona\\env.py\", line 457, in wrapper\n",
      "    return f(*args, **kwds)\n",
      "           ^^^^^^^^^^^^^^^^\n",
      "  File \"C:\\Users\\tanmo\\OneDrive - Dalhousie University\\Data Science portfolio 2023\\Location allocation project\\facility-location\\facility_location_env\\Lib\\site-packages\\fiona\\__init__.py\", line 352, in open\n",
      "    colxn = Collection(\n",
      "            ^^^^^^^^^^^\n",
      "  File \"C:\\Users\\tanmo\\OneDrive - Dalhousie University\\Data Science portfolio 2023\\Location allocation project\\facility-location\\facility_location_env\\Lib\\site-packages\\fiona\\collection.py\", line 234, in __init__\n",
      "    self.session.start(self, **kwargs)\n",
      "  File \"fiona\\ogrext.pyx\", line 587, in fiona.ogrext.Session.start\n",
      "  File \"fiona\\ogrext.pyx\", line 143, in fiona.ogrext.gdal_open_vector\n",
      "fiona.errors.DriverError: Unable to open Data/Jefferson_County_KY_ZIP_Codes.shx or Data/Jefferson_County_KY_ZIP_Codes.SHX. Set SHAPE_RESTORE_SHX config option to YES to restore or create it.\n",
      "\n",
      "During handling of the above exception, another exception occurred:\n",
      "\n",
      "Traceback (most recent call last):\n",
      "  File \"C:\\Users\\tanmo\\OneDrive - Dalhousie University\\Data Science portfolio 2023\\Location allocation project\\facility-location\\facility_location_env\\Lib\\site-packages\\IPython\\core\\interactiveshell.py\", line 2057, in showtraceback\n",
      "    stb = self.InteractiveTB.structured_traceback(\n",
      "          ^^^^^^^^^^^^^^^^^^^^^^^^^^^^^^^^^^^^^^^^\n",
      "  File \"C:\\Users\\tanmo\\OneDrive - Dalhousie University\\Data Science portfolio 2023\\Location allocation project\\facility-location\\facility_location_env\\Lib\\site-packages\\IPython\\core\\ultratb.py\", line 1288, in structured_traceback\n",
      "    return FormattedTB.structured_traceback(\n",
      "           ^^^^^^^^^^^^^^^^^^^^^^^^^^^^^^^^^\n",
      "  File \"C:\\Users\\tanmo\\OneDrive - Dalhousie University\\Data Science portfolio 2023\\Location allocation project\\facility-location\\facility_location_env\\Lib\\site-packages\\IPython\\core\\ultratb.py\", line 1177, in structured_traceback\n",
      "    return VerboseTB.structured_traceback(\n",
      "           ^^^^^^^^^^^^^^^^^^^^^^^^^^^^^^^\n",
      "  File \"C:\\Users\\tanmo\\OneDrive - Dalhousie University\\Data Science portfolio 2023\\Location allocation project\\facility-location\\facility_location_env\\Lib\\site-packages\\IPython\\core\\ultratb.py\", line 1049, in structured_traceback\n",
      "    formatted_exceptions += self.format_exception_as_a_whole(etype, evalue, etb, lines_of_context,\n",
      "                            ^^^^^^^^^^^^^^^^^^^^^^^^^^^^^^^^^^^^^^^^^^^^^^^^^^^^^^^^^^^^^^^^^^^^^^\n",
      "  File \"C:\\Users\\tanmo\\OneDrive - Dalhousie University\\Data Science portfolio 2023\\Location allocation project\\facility-location\\facility_location_env\\Lib\\site-packages\\IPython\\core\\ultratb.py\", line 935, in format_exception_as_a_whole\n",
      "    self.get_records(etb, number_of_lines_of_context, tb_offset) if etb else []\n",
      "    ^^^^^^^^^^^^^^^^^^^^^^^^^^^^^^^^^^^^^^^^^^^^^^^^^^^^^^^^^^^^\n",
      "  File \"C:\\Users\\tanmo\\OneDrive - Dalhousie University\\Data Science portfolio 2023\\Location allocation project\\facility-location\\facility_location_env\\Lib\\site-packages\\IPython\\core\\ultratb.py\", line 1003, in get_records\n",
      "    lines, first = inspect.getsourcelines(etb.tb_frame)\n",
      "                   ^^^^^^^^^^^^^^^^^^^^^^^^^^^^^^^^^^^^\n",
      "  File \"C:\\Users\\tanmo\\AppData\\Local\\Programs\\Python\\Python311\\Lib\\inspect.py\", line 1252, in getsourcelines\n",
      "    lines, lnum = findsource(object)\n",
      "                  ^^^^^^^^^^^^^^^^^^\n",
      "  File \"C:\\Users\\tanmo\\AppData\\Local\\Programs\\Python\\Python311\\Lib\\inspect.py\", line 1081, in findsource\n",
      "    raise OSError('could not get source code')\n",
      "OSError: could not get source code\n"
     ]
    }
   ],
   "source": [
    "# Load Data\n",
    "demand_points = pd.read_excel(\"Data/AllZipPop.xlsx\")  # Customer demand points\n",
    "candidate_locations = pd.read_excel(\"Data/FS_Location.xlsx\")\n",
    "JC = geopandas.read_file(\"Data/Jefferson_County_KY_ZIP_Codes.shp\")  # shapefile for mapping"
   ]
  },
  {
   "cell_type": "code",
   "execution_count": null,
   "id": "2b7b30fd",
   "metadata": {},
   "outputs": [],
   "source": [
    "# Add IDs and coordinates to the dataframe\n",
    "demand_points['demand_id'] = range(1, 1 + demand_points.shape[0])\n",
    "candidate_locations['candidate_id'] = ['Site' + str(i) for i in range(1, 1 + candidate_locations.shape[0])]\n",
    "demand_points['dem_cor'] = demand_points['longitude'].astype(str) + ',' + demand_points['latitude'].astype(str)\n",
    "candidate_locations['fac_cor'] = candidate_locations['longitude'].astype(str) + ',' + candidate_locations['latitude'].astype(str)"
   ]
  },
  {
   "cell_type": "code",
   "execution_count": null,
   "id": "643b66a4",
   "metadata": {},
   "outputs": [],
   "source": [
    "# Create Geo-dataframe\n",
    "def add_geocoordinates(demand_points, lng='longitude', lat='latitude'):\n",
    "    assert pd.Series([lng, lat]).isin(demand_points.columns).all(),\\\n",
    "        f'Cannot find columns \"{lng}\" and/or \"{lat}\" in the input dataframe.'\n",
    "    return geopandas.GeoDataFrame(\n",
    "        demand_points, geometry=geopandas.points_from_xy(demand_points.longitude, demand_points.latitude))\n",
    "\n",
    "demand_points = add_geocoordinates(demand_points)\n",
    "candidate_locations = add_geocoordinates(candidate_locations)"
   ]
  },
  {
   "cell_type": "markdown",
   "id": "17c65b3e",
   "metadata": {},
   "source": [
    "## Data Visualization"
   ]
  },
  {
   "cell_type": "code",
   "execution_count": null,
   "id": "3a078a4a",
   "metadata": {},
   "outputs": [],
   "source": [
    "# Plot demand points and candidate facility locations\n",
    "ax = JC.plot(figsize=(10, 10), alpha=0.5, edgecolor='k')\n",
    "demand_points.plot(ax=ax, marker='*', color='blue', markersize=10, alpha=0.8, label='Demand points')\n",
    "candidate_locations.plot(ax=ax, marker='p', color='red', markersize=40, alpha=0.9, label='Candidate locations')\n",
    "\n",
    "plt.legend(facecolor='white', title='Locations')\n",
    "plt.title('Demand points and candidate locations')"
   ]
  },
  {
   "cell_type": "code",
   "execution_count": null,
   "id": "54aac4be",
   "metadata": {},
   "outputs": [],
   "source": []
  },
  {
   "cell_type": "markdown",
   "id": "94a9525d",
   "metadata": {},
   "source": [
    "## Input Parameters of the models"
   ]
  },
  {
   "cell_type": "code",
   "execution_count": null,
   "id": "b903f6f0",
   "metadata": {},
   "outputs": [],
   "source": [
    "#Parameters\n",
    "I = [i for i in range(0, 42)]  # demand points                                    \n",
    "J = [j for j in range(0, 5)]   # candidate facility locations\n",
    "\n",
    "p = round(demand_points['pop'])\n",
    "Fac_cor = candidate_locations['fac_cor']\n",
    "Dem_cor = demand_points['dem_cor']\n",
    "A = [(i,j) for i in I for j in J]                                   \n",
    "d_ij = {(i,j): geodesic(Dem_cor[i],Fac_cor[j]).miles for i, j in A }  \n",
    "d_max=10\n",
    "N = 2"
   ]
  },
  {
   "cell_type": "markdown",
   "id": "281ee5d7",
   "metadata": {},
   "source": [
    "# Model-1: Finding minimum number of facilities \n",
    "\n",
    "## Optimization Model (Set Covering)"
   ]
  },
  {
   "cell_type": "code",
   "execution_count": null,
   "id": "b6dd0295",
   "metadata": {},
   "outputs": [],
   "source": [
    "# Model\n",
    "mdl1 = Model('location')\n",
    "\n",
    "#Decision Variables\n",
    "x = mdl1.addVars(J, vtype=GRB.BINARY,name='x')\n",
    "\n",
    "obj = quicksum(x[j] for j in J)\n",
    "mdl1.setObjective(obj, sense=GRB.MINIMIZE)\n",
    "mdl1.addConstrs(quicksum((d_ij[i,j] * x[j]) for j in J if d_ij[i,j] <= d_max) >= 1 for i in I)\n",
    "\n",
    "mdl1.optimize()"
   ]
  },
  {
   "cell_type": "markdown",
   "id": "b38e2229",
   "metadata": {},
   "source": [
    "## Decision from Model-1"
   ]
  },
  {
   "cell_type": "code",
   "execution_count": null,
   "id": "621d3db7",
   "metadata": {},
   "outputs": [],
   "source": [
    "# Decision: which locations should select\n",
    "decision1 = []\n",
    "for var in mdl1.getVars():\n",
    "    if \"x\" in var.varName:\n",
    "        if var.xn > 0:\n",
    "            decision1.append(\"yes\")\n",
    "        else:\n",
    "            decision1.append(\"no\")\n",
    "\n",
    "\n",
    "decision_df1=pd.DataFrame(decision1, columns=[\"decisions1\"])\n",
    "candidate_locations_df1=pd.concat([candidate_locations, decision_df1], axis=1)"
   ]
  },
  {
   "cell_type": "code",
   "execution_count": null,
   "id": "e154d025",
   "metadata": {},
   "outputs": [],
   "source": [
    "# Visualize the selected locations\n",
    "ax = JC.plot(figsize=(10, 10), alpha=0.5, edgecolor='k')\n",
    "\n",
    "demand_points.plot(ax=ax, marker='*', color='blue', markersize=10, alpha=0.8, label='Demand points')\n",
    "candidate_locations_df1.loc[candidate_locations_df1.decisions1 =='yes'].\\\n",
    "    plot(ax=ax, marker='p', color='red', markersize=120, label='Keep')\n",
    "\n",
    "candidate_locations_df1.loc[candidate_locations_df1.decisions1 =='no'].\\\n",
    "    plot(ax=ax, marker='p', color='yellow', markersize=120, label='Discard')\n",
    "\n",
    "plt.title('Optimized restaurant locations')\n",
    "plt.legend(title='Legend', facecolor='white')\n",
    "plt.xticks([])\n",
    "plt.yticks([])\n",
    "plt.show()"
   ]
  },
  {
   "cell_type": "markdown",
   "id": "209407d5",
   "metadata": {},
   "source": [
    "# Model-2: Building only few facilities to maximize coverage \n",
    "\n",
    "## Optimization Model (Maximal Covering Location Problem)"
   ]
  },
  {
   "cell_type": "code",
   "execution_count": null,
   "id": "9e9873b6",
   "metadata": {},
   "outputs": [],
   "source": [
    "# Max covering Model\n",
    "mdl2 = Model('location')\n",
    "\n",
    "#Decision Variables\n",
    "z = mdl2.addVars(I, vtype=GRB.BINARY,name='z')\n",
    "x = mdl2.addVars(J, vtype=GRB.BINARY,name='x')\n",
    "\n",
    "obj = quicksum(p[i]*(z[i]) for i in I)\n",
    "mdl2.setObjective(obj, sense=GRB.MAXIMIZE)\n",
    "\n",
    "mdl2.addConstrs(quicksum((d_ij[i,j] * x[j]) for j in J if d_ij[i,j] <= d_max) >= z[i] for i in I)\n",
    "mdl2.addConstr(quicksum((x[j]) for j in J) == N)\n",
    "\n",
    "mdl2.optimize()"
   ]
  },
  {
   "cell_type": "markdown",
   "id": "b6730a6a",
   "metadata": {},
   "source": [
    "## Decision from Model-2\n",
    "We should build 2 facilities at location name (marked by red pentagons) that will maximize customer demand fullfillment. ++"
   ]
  },
  {
   "cell_type": "code",
   "execution_count": null,
   "id": "39086cb6",
   "metadata": {},
   "outputs": [],
   "source": [
    "decision2 = []\n",
    "for var in mdl2.getVars():\n",
    "    if \"x\" in var.varName:\n",
    "        if var.xn > 0:\n",
    "            decision2.append(\"yes\")\n",
    "        else:\n",
    "            decision2.append(\"no\")\n",
    "\n",
    "decision_df2=pd.DataFrame(decision2, columns=[\"decisions2\"])\n",
    "candidate_locations_df2=pd.concat([candidate_locations, decision_df2], axis=1)"
   ]
  },
  {
   "cell_type": "code",
   "execution_count": null,
   "id": "71af6e36",
   "metadata": {},
   "outputs": [],
   "source": [
    "ax = JC.plot(figsize=(10, 10), alpha=0.5, edgecolor='k')\n",
    "\n",
    "demand_points.plot(ax=ax, marker='*', color='blue', markersize=10, alpha=0.8, label='Demand points')\n",
    "candidate_locations_df2.loc[candidate_locations_df2.decisions2 =='yes'].\\\n",
    "    plot(ax=ax, marker='p', color='red', markersize=120, label='Keep')\n",
    "\n",
    "candidate_locations_df2.loc[candidate_locations_df2.decisions2 =='no'].\\\n",
    "    plot(ax=ax, marker='p', color='yellow', markersize=120, label='Discard')\n",
    "\n",
    "plt.title('Optimized restaurant locations')\n",
    "plt.legend(title='Legend', facecolor='white')\n",
    "plt.xticks([])\n",
    "plt.yticks([])\n",
    "plt.show()"
   ]
  },
  {
   "cell_type": "markdown",
   "id": "4ae48796",
   "metadata": {},
   "source": [
    "# Model-3: Minimize travelling distance \n",
    "\n",
    "## Optimization Model 3 (p-median)\n",
    "\n",
    "Minimize travel distance between facilities and customers "
   ]
  },
  {
   "cell_type": "code",
   "execution_count": null,
   "id": "8c73c107",
   "metadata": {},
   "outputs": [],
   "source": [
    "# P-median Model\n",
    "\n",
    "mdl3 = Model('location')\n",
    "\n",
    "#Decision Variables\n",
    "y = mdl3.addVars(I,J, vtype=GRB.BINARY,name='y')\n",
    "x = mdl3.addVars(J, vtype=GRB.BINARY,name='x')\n",
    "\n",
    "obj = quicksum(p[i]*d_ij[i,j]*(y[i,j]) for i in I for j in J)\n",
    "mdl3.setObjective(obj, sense=GRB.MINIMIZE)\n",
    "\n",
    "mdl3.addConstr(quicksum((x[j]) for j in J) == N)\n",
    "mdl3.addConstrs(quicksum(y[i,j] for j in J) ==1 for i in I)\n",
    "mdl3.addConstrs(y[i,j] <= x[j] for i in I for j in J)\n",
    "\n",
    "\n",
    "mdl3.optimize()"
   ]
  },
  {
   "cell_type": "markdown",
   "id": "3141d12d",
   "metadata": {},
   "source": [
    "## Decision from Model-3"
   ]
  },
  {
   "cell_type": "code",
   "execution_count": null,
   "id": "ca7774e6",
   "metadata": {},
   "outputs": [],
   "source": [
    "decision3 = []\n",
    "for var in mdl3.getVars():\n",
    "    if \"x\" in var.varName:\n",
    "        if var.xn > 0:\n",
    "            decision3.append(\"yes\")\n",
    "        else:\n",
    "            decision3.append(\"no\")\n",
    "\n",
    "\n",
    "decision_df3=pd.DataFrame(decision3, columns=[\"decisions3\"])\n",
    "candidate_locations_df3=pd.concat([candidate_locations, decision_df3], axis=1)"
   ]
  },
  {
   "cell_type": "code",
   "execution_count": null,
   "id": "c7821690",
   "metadata": {
    "scrolled": true
   },
   "outputs": [],
   "source": [
    "ax = JC.plot(figsize=(10, 10), alpha=0.5, edgecolor='k')\n",
    "\n",
    "demand_points.plot(ax=ax, marker='*', color='blue', markersize=10, alpha=0.8, label='Demand points')\n",
    "\n",
    "candidate_locations_df3.loc[candidate_locations_df3.decisions3 =='yes'].\\\n",
    "    plot(ax=ax, marker='p', color='red', markersize=120, label='Keep')\n",
    "\n",
    "candidate_locations_df3.loc[candidate_locations_df3.decisions3 =='no'].\\\n",
    "    plot(ax=ax, marker='p', color='yellow', markersize=120, label='Discard')\n",
    "\n",
    "\n",
    "plt.title('Optimized restaurant locations')\n",
    "plt.legend(title='Legend', facecolor='white')\n",
    "plt.xticks([])\n",
    "plt.yticks([])\n",
    "plt.show()"
   ]
  },
  {
   "cell_type": "code",
   "execution_count": null,
   "id": "807aeb07",
   "metadata": {},
   "outputs": [],
   "source": [
    "# Extract assignment variables\n",
    "y_series = pd.Series(mdl3.getAttr('X', y))\n",
    "y_1s = z_series[z_series > 0.5]\n",
    "x_series = pd.Series(mdl3.getAttr('X', x))\n",
    "x_1s = x_series[x_series > 0.5]\n",
    "\n",
    "sol_y = pd.Series(mdl3.getAttr('X', y))\n",
    "sol_y.name = 'Assignments'\n",
    "sol_y.index.names = ['customer no.', 'facility no.']\n",
    "assignment0 = sol_y[sol_y > 0.5].to_frame()\n",
    "assignment_name = assignment0.reset_index()\n",
    "\n",
    "# organize data\n",
    "customer_df2 = pd.DataFrame(demand_points[['longitude', 'latitude']]).reset_index()\n",
    "customer_df2.columns = ['customer no.', 'c_longitude', 'c_latitude']\n",
    "facility_df = pd.DataFrame(candidate_locations_df3[['longitude', 'latitude']]).reset_index()\n",
    "facility_df.columns = ['facility no.', 'f_longitude', 'f_latitude']\n",
    "assignment2 = pd.merge(assignment_name[['customer no.', 'facility no.']],\n",
    "                       facility_df[['facility no.', 'f_longitude', 'f_latitude']], on='facility no.')\n",
    "assignment = pd.merge(assignment2, customer_df2[['customer no.', 'c_longitude', 'c_latitude']])"
   ]
  },
  {
   "cell_type": "code",
   "execution_count": null,
   "id": "813feb17",
   "metadata": {},
   "outputs": [],
   "source": [
    "facility0=candidate_locations.copy()\n",
    "customer_df0=demand_points.copy()"
   ]
  },
  {
   "cell_type": "code",
   "execution_count": null,
   "id": "ea18727d",
   "metadata": {},
   "outputs": [],
   "source": []
  },
  {
   "cell_type": "code",
   "execution_count": null,
   "id": "2a20f8d4",
   "metadata": {},
   "outputs": [],
   "source": [
    "# %% Network Diagram\n",
    "def draw_network_diagram(assignment, JC, facility0, customer_df0):\n",
    "    # fig, ax = plt.subplots()\n",
    "    #us_boundary_map = JC.plot(figsize=(10, 10), alpha=0.5, edgecolor='k')\n",
    "    us_boundary_map = JC.boundary.plot(figsize=(18, 12), color='Black', linewidth=.5)\n",
    "    # customer\n",
    "    customer_df0.plot(ax=us_boundary_map, marker='o', color='blue', markersize=50, alpha=0.1, label='Customer')\n",
    "    # Plot potential facility locations as points\n",
    "    facility0.plot(ax=us_boundary_map, marker='p', color='red', markersize=500, alpha=1, label='Warehouse')\n",
    "\n",
    "    for i in range(facility0.shape[0]):\n",
    "        plt.text(x=facility0.longitude[i] - 1, y=facility0.latitude[i] - 1,\n",
    "                 s=facility0.index[i] + 1,\n",
    "                 fontdict=dict(color='black', size=15))\n",
    "\n",
    "    # plot the line segments, indicent points, and base station points of the final network\n",
    "    unique_stations = assignment['facility no.'].unique()\n",
    "    for ust in range(len(unique_stations)):\n",
    "        d1 = assignment.loc[assignment['facility no.'] == unique_stations[ust]].reset_index()\n",
    "        new_list = []\n",
    "        for r in range(d1.shape[0]):\n",
    "            new_list.append([(d1.c_longitude[r], d1.c_latitude[r]), (d1.f_longitude[r], d1.f_latitude[r])])\n",
    "        lc = mc.LineCollection(new_list, colors=f'C{ust + 1}',\n",
    "                               alpha=.2)  # alpha = (ust/len(unique_stations)), colors=ust,\n",
    "        us_boundary_map.add_collection(lc)\n",
    "\n",
    "    plt.axis('off')\n",
    "\n",
    "    plt.show()\n",
    "    plt.savefig('Outputs/network.png', transparent=True)"
   ]
  },
  {
   "cell_type": "code",
   "execution_count": null,
   "id": "b233b92c",
   "metadata": {},
   "outputs": [],
   "source": [
    "draw_network_diagram(assignment, JC, facility0, customer_df0)"
   ]
  },
  {
   "cell_type": "markdown",
   "id": "4a231f81",
   "metadata": {},
   "source": [
    "# Model-4: Open additional facilities \n",
    "## Optimization Model 4 (Weiszfeld)"
   ]
  },
  {
   "cell_type": "code",
   "execution_count": null,
   "id": "093ad101",
   "metadata": {},
   "outputs": [],
   "source": [
    "cor2=[]\n",
    "for i in range (len(demand_points)):\n",
    "   # print(i)\n",
    "    lat = demand_points[\"latitude\"][i]\n",
    "    lon = demand_points[\"longitude\"][i]\n",
    "    cor2.append([lon, lat])"
   ]
  },
  {
   "cell_type": "code",
   "execution_count": null,
   "id": "7efdd31d",
   "metadata": {},
   "outputs": [],
   "source": [
    "points = [tuple(x) for x in cor2]"
   ]
  },
  {
   "cell_type": "code",
   "execution_count": null,
   "id": "aa15ad95",
   "metadata": {},
   "outputs": [],
   "source": [
    "def weiszfeld(points):\n",
    "\n",
    "    max_error = 0.0000000001\n",
    "\n",
    "    lon=np.array([point[0] for point in  points])\n",
    "    lat=np.array([point[1] for point in  points])\n",
    "\n",
    "\n",
    "    ext_condition = True\n",
    "\n",
    "    start_x = np.average(lon)\n",
    "    start_y = np.average(lat)\n",
    "\n",
    "    while ext_condition:\n",
    "\n",
    "        sod = (((lon - start_x)**2) + ((lat - start_y)**2))**0.5\n",
    "\n",
    "        new_x = sum(lon/sod) / sum(1/sod)\n",
    "        new_y = sum(lat/sod) / sum(1/sod)\n",
    "\n",
    "        ext_condition = (abs(new_x - start_x) > max_error) or (abs(new_y - start_y) > max_error)\n",
    "\n",
    "        start_y = new_y\n",
    "        start_x = new_x\n",
    "\n",
    "        print(new_x, new_y)"
   ]
  },
  {
   "cell_type": "code",
   "execution_count": null,
   "id": "9b1d159e",
   "metadata": {},
   "outputs": [],
   "source": [
    "def weiszfeld(points):\n",
    "\n",
    "    max_error = 0.0000000001\n",
    "\n",
    "    lon=np.array([point[0] for point in  points])\n",
    "    lat=np.array([point[1] for point in  points])\n",
    "\n",
    "\n",
    "    ext_condition = True\n",
    "\n",
    "    start_x = np.average(lon)\n",
    "    start_y = np.average(lat)\n",
    "\n",
    "    while ext_condition:\n",
    "\n",
    "        sod = (((lon - start_x)**2) + ((lat - start_y)**2))**0.5\n",
    "\n",
    "        new_x = sum(lon/sod) / sum(1/sod)\n",
    "        new_y = sum(lat/sod) / sum(1/sod)\n",
    "\n",
    "        ext_condition = (abs(new_x - start_x) > max_error) or (abs(new_y - start_y) > max_error)\n",
    "\n",
    "        start_y = new_y\n",
    "        start_x = new_x\n",
    "\n",
    "        print(new_x, new_y)"
   ]
  },
  {
   "cell_type": "markdown",
   "id": "abd682b9",
   "metadata": {},
   "source": [
    "## Decision recommendation by Model-4"
   ]
  },
  {
   "cell_type": "code",
   "execution_count": 4,
   "id": "e2583b30",
   "metadata": {},
   "outputs": [
    {
     "name": "stdout",
     "output_type": "stream",
     "text": [
      "Note: you may need to restart the kernel to use updated packages.\n"
     ]
    },
    {
     "name": "stderr",
     "output_type": "stream",
     "text": [
      "ERROR: Could not find a version that satisfies the requirement toc2 (from versions: none)\n",
      "ERROR: No matching distribution found for toc2\n",
      "\n",
      "[notice] A new release of pip available: 22.3.1 -> 23.0.1\n",
      "[notice] To update, run: python.exe -m pip install --upgrade pip\n"
     ]
    }
   ],
   "source": [
    "pip install toc2"
   ]
  }
 ],
 "metadata": {
  "kernelspec": {
   "display_name": "Python 3 (ipykernel)",
   "language": "python",
   "name": "python3"
  },
  "language_info": {
   "codemirror_mode": {
    "name": "ipython",
    "version": 3
   },
   "file_extension": ".py",
   "mimetype": "text/x-python",
   "name": "python",
   "nbconvert_exporter": "python",
   "pygments_lexer": "ipython3",
   "version": "3.11.1"
  }
 },
 "nbformat": 4,
 "nbformat_minor": 5
}
