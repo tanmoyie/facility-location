{
 "cells": [
  {
   "cell_type": "markdown",
   "metadata": {},
   "source": [
    "# Facility Location demo\n",
    "\n",
    "Outline:\n",
    "1. Data\n",
    "2. Model\n",
    "3. Analysis\n",
    "\n",
    "Input:\n",
    "Output:\n"
   ]
  },
  {
   "cell_type": "markdown",
   "metadata": {},
   "source": [
    "# Data\n",
    "Two dataset is considered in this project:\n",
    "1. Geolocation and population density of 3887 cities in mainland USA\n",
    "2. A shapefile that contains geospatial properties of cities"
   ]
  },
  {
   "cell_type": "code",
   "execution_count": 6,
   "metadata": {
    "pycharm": {
     "is_executing": true
    }
   },
   "outputs": [],
   "source": [
    "# import custom functions related to our model\n",
    "import model1, model2\n",
    "import data_preparation, data_visualization\n",
    "# import libraries\n",
    "import pandas as pd\n",
    "import geopandas"
   ]
  },
  {
   "cell_type": "markdown",
   "metadata": {},
   "source": [
    "## Data Collection and Cleaning\n",
    "Assumption: It is assumed that demand is directly proportional to population density. Let's explore city-wise density"
   ]
  },
  {
   "cell_type": "code",
   "execution_count": 7,
   "metadata": {
    "pycharm": {
     "is_executing": true
    }
   },
   "outputs": [],
   "source": [
    "data_demand = pd.read_excel(\"Data/Major city data.xlsx\")\n",
    "geo_data = ..."
   ]
  },
  {
   "cell_type": "code",
   "execution_count": 8,
   "metadata": {},
   "outputs": [
    {
     "data": {
      "text/html": [
       "<div>\n",
       "<style scoped>\n",
       "    .dataframe tbody tr th:only-of-type {\n",
       "        vertical-align: middle;\n",
       "    }\n",
       "\n",
       "    .dataframe tbody tr th {\n",
       "        vertical-align: top;\n",
       "    }\n",
       "\n",
       "    .dataframe thead th {\n",
       "        text-align: right;\n",
       "    }\n",
       "</style>\n",
       "<table border=\"1\" class=\"dataframe\">\n",
       "  <thead>\n",
       "    <tr style=\"text-align: right;\">\n",
       "      <th></th>\n",
       "      <th>NAME</th>\n",
       "      <th>ST</th>\n",
       "      <th>POPULATION</th>\n",
       "      <th>longitude</th>\n",
       "      <th>latitude</th>\n",
       "    </tr>\n",
       "  </thead>\n",
       "  <tbody>\n",
       "    <tr>\n",
       "      <th>0</th>\n",
       "      <td>Ammon</td>\n",
       "      <td>ID</td>\n",
       "      <td>15181</td>\n",
       "      <td>-111.954</td>\n",
       "      <td>43.4758</td>\n",
       "    </tr>\n",
       "    <tr>\n",
       "      <th>1</th>\n",
       "      <td>Blackfoot</td>\n",
       "      <td>ID</td>\n",
       "      <td>11946</td>\n",
       "      <td>-112.346</td>\n",
       "      <td>43.1939</td>\n",
       "    </tr>\n",
       "    <tr>\n",
       "      <th>2</th>\n",
       "      <td>Boise City</td>\n",
       "      <td>ID</td>\n",
       "      <td>225405</td>\n",
       "      <td>-116.230</td>\n",
       "      <td>43.5990</td>\n",
       "    </tr>\n",
       "    <tr>\n",
       "      <th>3</th>\n",
       "      <td>Burley</td>\n",
       "      <td>ID</td>\n",
       "      <td>10727</td>\n",
       "      <td>-113.793</td>\n",
       "      <td>42.5367</td>\n",
       "    </tr>\n",
       "    <tr>\n",
       "      <th>4</th>\n",
       "      <td>Caldwell</td>\n",
       "      <td>ID</td>\n",
       "      <td>53942</td>\n",
       "      <td>-116.686</td>\n",
       "      <td>43.6616</td>\n",
       "    </tr>\n",
       "  </tbody>\n",
       "</table>\n",
       "</div>"
      ],
      "text/plain": [
       "         NAME  ST  POPULATION  longitude  latitude\n",
       "0       Ammon  ID       15181   -111.954   43.4758\n",
       "1   Blackfoot  ID       11946   -112.346   43.1939\n",
       "2  Boise City  ID      225405   -116.230   43.5990\n",
       "3      Burley  ID       10727   -113.793   42.5367\n",
       "4    Caldwell  ID       53942   -116.686   43.6616"
      ]
     },
     "execution_count": 8,
     "metadata": {},
     "output_type": "execute_result"
    }
   ],
   "source": [
    "# Show the data map (input of the model)\n",
    "data_demand = data_demand[['NAME', 'ST', 'POPULATION', 'longitude', 'latitude']]\n",
    "data_demand.head()"
   ]
  },
  {
   "cell_type": "code",
   "execution_count": null,
   "metadata": {},
   "outputs": [
    {
     "name": "stderr",
     "output_type": "stream",
     "text": [
      "C:\\Users\\tanmo\\OneDrive - Dalhousie University\\Data Science portfolio 2023\\Location allocation project\\facility-location\\data_preparation.py:31: SettingWithCopyWarning: \n",
      "A value is trying to be set on a copy of a slice from a DataFrame\n",
      "\n",
      "See the caveats in the documentation: https://pandas.pydata.org/pandas-docs/stable/user_guide/indexing.html#returning-a-view-versus-a-copy\n",
      "  facility.drop(\"index\", axis=1, inplace=True)\n"
     ]
    }
   ],
   "source": [
    "facility, customer_df = data_preparation.data_prep(data_demand)"
   ]
  },
  {
   "cell_type": "markdown",
   "metadata": {},
   "source": [
    "## Mainland USA and its demands"
   ]
  },
  {
   "cell_type": "markdown",
   "metadata": {},
   "source": [
    "### Plot customer and warehouse"
   ]
  },
  {
   "cell_type": "code",
   "execution_count": null,
   "metadata": {},
   "outputs": [
    {
     "ename": "NameError",
     "evalue": "name 'geopandas' is not defined",
     "output_type": "error",
     "traceback": [
      "\u001b[1;31m---------------------------------------------------------------------------\u001b[0m",
      "\u001b[1;31mNameError\u001b[0m                                 Traceback (most recent call last)",
      "Cell \u001b[1;32mIn[10], line 2\u001b[0m\n\u001b[0;32m      1\u001b[0m \u001b[38;5;66;03m# Load geometric file for map\u001b[39;00m\n\u001b[1;32m----> 2\u001b[0m AllSt \u001b[38;5;241m=\u001b[39m \u001b[43mgeopandas\u001b[49m\u001b[38;5;241m.\u001b[39mread_file(\u001b[38;5;124m\"\u001b[39m\u001b[38;5;124mData/States_shapefile.shp\u001b[39m\u001b[38;5;124m\"\u001b[39m)\n\u001b[0;32m      3\u001b[0m \u001b[38;5;66;03m# remove 2 states from map\u001b[39;00m\n\u001b[0;32m      4\u001b[0m indexNames \u001b[38;5;241m=\u001b[39m AllSt[AllSt[\u001b[38;5;124m'\u001b[39m\u001b[38;5;124mState_Code\u001b[39m\u001b[38;5;124m'\u001b[39m]\u001b[38;5;241m.\u001b[39misin([\u001b[38;5;124m'\u001b[39m\u001b[38;5;124mAK\u001b[39m\u001b[38;5;124m'\u001b[39m, \u001b[38;5;124m'\u001b[39m\u001b[38;5;124mHI\u001b[39m\u001b[38;5;124m'\u001b[39m])]\u001b[38;5;241m.\u001b[39mindex\n",
      "\u001b[1;31mNameError\u001b[0m: name 'geopandas' is not defined"
     ]
    }
   ],
   "source": [
    "# Load geometric file for map\n",
    "AllSt = geopandas.read_file(\"Data/States_shapefile.shp\")\n",
    "# remove 2 states from map\n",
    "indexNames = AllSt[AllSt['State_Code'].isin(['AK', 'HI'])].index\n",
    "AllSt.drop(indexNames, inplace=True)\n",
    "\n",
    "# draw geomap\n",
    "data_visualization.draw_initial_customer_demand(AllSt, facility, customer_df) "
   ]
  },
  {
   "cell_type": "markdown",
   "metadata": {},
   "source": [
    "## Input Parameters of the model"
   ]
  },
  {
   "cell_type": "code",
   "execution_count": null,
   "metadata": {},
   "outputs": [],
   "source": [
    "# Input parameters\n",
    "I = [i for i in range(0, 3849)] # need to replace this hard-coded value ++\n",
    "J = [j for j in range(0, 5)]  # ++\n",
    "\n",
    "\n",
    "p = round(customer_df['POPULATION'])\n",
    "\n",
    "A = [(i,j) for i in I for j in J]                                   # Arc between pharma and census\n",
    "d_ij = {(i,j): geodesic(Cus_cor[i],Fac_cor[j]).miles for i, j in A }  # Distance between pharma and census\n",
    "\n",
    "# we want to choose 4 from 5 warehouse\n",
    "N = 4"
   ]
  },
  {
   "cell_type": "markdown",
   "metadata": {},
   "source": [
    "# Modeling"
   ]
  },
  {
   "cell_type": "markdown",
   "metadata": {},
   "source": [
    "## Model 1"
   ]
  },
  {
   "cell_type": "code",
   "execution_count": null,
   "metadata": {},
   "outputs": [],
   "source": [
    "# Show the model equation\n"
   ]
  },
  {
   "cell_type": "markdown",
   "metadata": {},
   "source": [
    "## Model 2\n",
    "Weiszfelf method"
   ]
  },
  {
   "cell_type": "code",
   "execution_count": null,
   "metadata": {},
   "outputs": [],
   "source": [
    "#Take each of 5 warehouse lat and lon\n",
    "warehouse_coord5=[]\n",
    "for i in range (len(facility)):\n",
    "   # print(i)\n",
    "    lat = facility[\"latitude\"][i]\n",
    "    lon = facility[\"longitude\"][i]\n",
    "    warehouse_coord5.append([lon, lat])\n",
    "\n",
    "\n",
    "points = [tuple(x) for x in warehouse_coord5]\n",
    "lon=np.array([point[0] for point in  points])  # ++\n",
    "lat=np.array([point[1] for point in  points])"
   ]
  },
  {
   "cell_type": "code",
   "execution_count": null,
   "metadata": {},
   "outputs": [],
   "source": []
  },
  {
   "cell_type": "code",
   "execution_count": null,
   "metadata": {},
   "outputs": [],
   "source": []
  },
  {
   "cell_type": "markdown",
   "metadata": {},
   "source": [
    "# Analysis"
   ]
  },
  {
   "cell_type": "code",
   "execution_count": null,
   "metadata": {},
   "outputs": [],
   "source": [
    "# decision to open or close warehouse\n",
    "decision = []\n",
    "for var in mdl.getVars():\n",
    "    if \"x\" in var.varName:\n",
    "        if var.xn > 0:\n",
    "            decision.append(\"yes\")\n",
    "        else:\n",
    "            decision.append(\"no\")\n",
    "\n",
    "\n",
    "decision_df = pd.DataFrame(decision, columns=[\"decisions\"])\n",
    "facility_close = pd.concat([facility, decision_df], axis=1)\n",
    "# Close NY warehouse\n",
    "facility_close.head()"
   ]
  },
  {
   "cell_type": "markdown",
   "metadata": {},
   "source": [
    "## Resource optimization\n"
   ]
  },
  {
   "cell_type": "code",
   "execution_count": null,
   "metadata": {},
   "outputs": [],
   "source": [
    "data_visualization.draw_open_close_facility(customer_df, facility, AllSt)"
   ]
  },
  {
   "cell_type": "markdown",
   "metadata": {},
   "source": [
    "## Final Geographic map showing optimized allocation of facilities"
   ]
  },
  {
   "cell_type": "code",
   "execution_count": null,
   "metadata": {},
   "outputs": [],
   "source": []
  },
  {
   "cell_type": "code",
   "execution_count": null,
   "metadata": {},
   "outputs": [],
   "source": []
  },
  {
   "cell_type": "code",
   "execution_count": null,
   "metadata": {},
   "outputs": [],
   "source": []
  },
  {
   "cell_type": "code",
   "execution_count": null,
   "metadata": {},
   "outputs": [],
   "source": []
  }
 ],
 "metadata": {
  "kernelspec": {
   "display_name": "Python 3 (ipykernel)",
   "language": "python",
   "name": "python3"
  },
  "language_info": {
   "codemirror_mode": {
    "name": "ipython",
    "version": 3
   },
   "file_extension": ".py",
   "mimetype": "text/x-python",
   "name": "python",
   "nbconvert_exporter": "python",
   "pygments_lexer": "ipython3",
   "version": "3.11.1"
  }
 },
 "nbformat": 4,
 "nbformat_minor": 1
}
