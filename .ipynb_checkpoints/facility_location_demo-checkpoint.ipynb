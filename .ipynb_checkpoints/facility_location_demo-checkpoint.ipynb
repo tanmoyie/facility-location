{
 "cells": [
  {
   "cell_type": "markdown",
   "metadata": {},
   "source": [
    "# Facility Location demo\n",
    "\n",
    "Outline:\n",
    "1. Data\n",
    "2. Model\n",
    "3. Analysis\n",
    "\n",
    "Input:\n",
    "Output:\n"
   ]
  },
  {
   "cell_type": "markdown",
   "metadata": {},
   "source": [
    "# Data\n",
    "Two dataset is considered in this project:\n",
    "1. Geolocation and population density of 3887 cities in mainland USA\n",
    "2. A shapefile that contains geospatial properties of cities"
   ]
  },
  {
   "cell_type": "code",
   "execution_count": 1,
   "metadata": {
    "pycharm": {
     "is_executing": true
    }
   },
   "outputs": [],
   "source": [
    "# import custom functions related to our model\n",
    "import model1, model2\n",
    "import data_preparation, data_visualization\n",
    "# import libraries\n",
    "import pandas as pd\n",
    "import geopandas\n",
    "from geopy import distance\n",
    "\n",
    "import numpy as np"
   ]
  },
  {
   "cell_type": "markdown",
   "metadata": {},
   "source": [
    "## Data Collection and Cleaning\n",
    "Assumption: It is assumed that demand is directly proportional to population density. Let's explore city-wise density"
   ]
  },
  {
   "cell_type": "code",
   "execution_count": null,
   "metadata": {},
   "outputs": [],
   "source": [
    "data_demand = pd.read_excel(\"Data/Major city data.xlsx\")\n",
    "# geo_data = ..."
   ]
  },
  {
   "cell_type": "code",
   "execution_count": null,
   "metadata": {},
   "outputs": [],
   "source": [
    "# Show the data map (input of the model)\n",
    "data_demand = data_demand[['NAME', 'ST', 'POPULATION', 'longitude', 'latitude']]\n",
    "data_demand.head()"
   ]
  },
  {
   "cell_type": "code",
   "execution_count": null,
   "metadata": {},
   "outputs": [],
   "source": [
    "facility, customer_df = data_preparation.data_prep(data_demand)\n",
    "facility0 = facility.copy()\n",
    "customer_df0 = customer_df.copy()\n",
    "facility_coord = facility['facility_coord']\n",
    "customer_coord = customer_df['customer_coord']"
   ]
  },
  {
   "cell_type": "code",
   "execution_count": null,
   "metadata": {},
   "outputs": [],
   "source": [
    "customer_coord"
   ]
  },
  {
   "cell_type": "code",
   "execution_count": null,
   "metadata": {},
   "outputs": [],
   "source": [
    "facility_show = facility[['warehouse_id', 'NAME', 'ST', 'POPULATION','geometry']]\n",
    "facility_show.columns = ['ID', 'Name', 'State', 'Population', 'Geometry']\n",
    "display(facility_show.style.hide(axis='index'))\n",
    "facility_show.to_csv('Outputs/facility_show.csv', index=False)"
   ]
  },
  {
   "cell_type": "code",
   "execution_count": null,
   "metadata": {},
   "outputs": [],
   "source": [
    "facility"
   ]
  },
  {
   "cell_type": "markdown",
   "metadata": {},
   "source": [
    "## Mainland USA and its demands\n",
    "For simplicity, only mainland US is considered. "
   ]
  },
  {
   "cell_type": "markdown",
   "metadata": {},
   "source": [
    "### Plot customer and warehouse"
   ]
  },
  {
   "cell_type": "code",
   "execution_count": null,
   "metadata": {},
   "outputs": [],
   "source": []
  },
  {
   "cell_type": "code",
   "execution_count": null,
   "metadata": {},
   "outputs": [],
   "source": [
    "# Load geometric file for map\n",
    "AllSt = geopandas.read_file(\"Data/States_shapefile/States_shapefile.shp\")\n",
    "# remove 2 states from map\n",
    "indexNames = AllSt[AllSt['State_Code'].isin(['AK', 'HI'])].index\n",
    "AllSt.drop(indexNames, inplace=True)\n",
    "\n",
    "# draw geomap\n",
    "data_visualization.draw_initial_customer_demand(AllSt, facility, customer_df) "
   ]
  },
  {
   "cell_type": "markdown",
   "metadata": {},
   "source": [
    "## Input Parameters of the model"
   ]
  },
  {
   "cell_type": "code",
   "execution_count": null,
   "metadata": {},
   "outputs": [],
   "source": [
    "# Input parameters\n",
    "I = [i for i in range(0, 3849)] # need to replace this hard-coded value ++\n",
    "J = [j for j in range(0, 5)]  # ++\n",
    "\n",
    "\n",
    "p = round(customer_df['POPULATION'])\n",
    "\n",
    "A = [(i,j) for i in I for j in J]                                   # Arc between pharma and census\n",
    "d_ij = {(i,j): distance.geodesic(customer_coord[i], facility_coord[j]).miles for i, j in A }  # Distance between pharma and census\n",
    "\n",
    "# we want to choose 4 from 5 warehouse\n",
    "N = 4"
   ]
  },
  {
   "cell_type": "code",
   "execution_count": null,
   "metadata": {},
   "outputs": [],
   "source": []
  },
  {
   "cell_type": "code",
   "execution_count": null,
   "metadata": {},
   "outputs": [],
   "source": []
  },
  {
   "cell_type": "markdown",
   "metadata": {},
   "source": [
    "# Modeling"
   ]
  },
  {
   "cell_type": "markdown",
   "metadata": {},
   "source": [
    "## Model 1"
   ]
  },
  {
   "cell_type": "code",
   "execution_count": null,
   "metadata": {},
   "outputs": [],
   "source": [
    "# Show the model equation\n",
    "z_1s, x_1s, customer_df, facility_df, assignment, attrfile, decision_df, assignment_name \\\n",
    "    = model1.solve(I, J, p, d_ij, N, facility, customer_df)"
   ]
  },
  {
   "cell_type": "code",
   "execution_count": null,
   "metadata": {},
   "outputs": [],
   "source": []
  },
  {
   "cell_type": "code",
   "execution_count": null,
   "metadata": {},
   "outputs": [],
   "source": [
    "display(assignment_name)"
   ]
  },
  {
   "cell_type": "code",
   "execution_count": null,
   "metadata": {},
   "outputs": [],
   "source": [
    "print('Assignment')\n",
    "display(assignment)"
   ]
  },
  {
   "cell_type": "code",
   "execution_count": null,
   "metadata": {},
   "outputs": [],
   "source": [
    "assignment[-100:-20]"
   ]
  },
  {
   "cell_type": "code",
   "execution_count": null,
   "metadata": {},
   "outputs": [],
   "source": []
  },
  {
   "cell_type": "code",
   "execution_count": null,
   "metadata": {},
   "outputs": [],
   "source": [
    "data_visualization.draw_network_diagram(assignment, AllSt, facility0, customer_df0)"
   ]
  },
  {
   "cell_type": "code",
   "execution_count": null,
   "metadata": {},
   "outputs": [],
   "source": [
    "import matplotlib.pyplot as plt\n",
    "from matplotlib import collections as mc\n",
    "coords = []\n",
    "# plot the line segments, indicent points, and base station points of the final network\n",
    "fig, ax = plt.subplots(figsize=(8, 3.5), dpi=300)\n",
    "unique_stations = assignment['facility no.'].unique()\n",
    "for ust in range(len(unique_stations)):\n",
    "    d1 = assignment.loc[assignment['facility no.'] == unique_stations[ust]].reset_index()\n",
    "    new_list = []\n",
    "    for r in range(d1.shape[0]):\n",
    "        new_list.append([(d1.c_longitude[r], d1.c_latitude[r]), (d1.f_longitude[r], d1.f_latitude[r])])\n",
    "    lc = mc.LineCollection(new_list, colors= f'C{ust + 1}', alpha=.1)  # alpha = (ust/len(unique_stations)), colors=ust,\n",
    "    ax.add_collection(lc)\n",
    "    ax.autoscale()\n",
    "    #plt.axis('off')\n",
    "plt.show()\n",
    "fig.savefig('Outputs/network2.png') # , transparent=True"
   ]
  },
  {
   "cell_type": "code",
   "execution_count": null,
   "metadata": {},
   "outputs": [],
   "source": [
    "new_list"
   ]
  },
  {
   "cell_type": "code",
   "execution_count": null,
   "metadata": {},
   "outputs": [],
   "source": [
    "[(d1.c_longitude[r], d1.c_latitude[r]), (d1.f_longitude[r], d1.f_latitude[r])]"
   ]
  },
  {
   "cell_type": "markdown",
   "metadata": {},
   "source": [
    "## Model 2\n",
    "Weiszfelf method"
   ]
  },
  {
   "cell_type": "code",
   "execution_count": null,
   "metadata": {},
   "outputs": [],
   "source": [
    "import numpy as np\n",
    "#Take each of 5 warehouse lat and lon\n",
    "warehouse_coord5=[]\n",
    "for i in range (len(facility)):\n",
    "   # print(i)\n",
    "    lat = facility[\"latitude\"][i]\n",
    "    lon = facility[\"longitude\"][i]\n",
    "    warehouse_coord5.append([lon, lat])\n",
    "\n",
    "\n",
    "points = [tuple(x) for x in warehouse_coord5]\n",
    "lon=np.array([point[0] for point in  points])  # ++\n",
    "lat=np.array([point[1] for point in  points])\n",
    "\n",
    "max_error = 0.0000000001\n",
    "ext_condition = True"
   ]
  },
  {
   "cell_type": "code",
   "execution_count": null,
   "metadata": {},
   "outputs": [],
   "source": [
    "input_data_model2 = warehouse_coord5, lon, lat"
   ]
  },
  {
   "cell_type": "code",
   "execution_count": null,
   "metadata": {},
   "outputs": [],
   "source": []
  },
  {
   "cell_type": "markdown",
   "metadata": {},
   "source": [
    "# Analysis"
   ]
  },
  {
   "cell_type": "code",
   "execution_count": null,
   "metadata": {},
   "outputs": [],
   "source": [
    "# decision to open or close warehouse\n",
    "decision = []\n",
    "for var in mdl.getVars():\n",
    "    if \"x\" in var.varName:\n",
    "        if var.xn > 0:\n",
    "            decision.append(\"yes\")\n",
    "        else:\n",
    "            decision.append(\"no\")\n",
    "\n",
    "\n",
    "decision_df = pd.DataFrame(decision, columns=[\"decisions\"])\n",
    "facility_close = pd.concat([facility, decision_df], axis=1)\n",
    "# Close NY warehouse\n",
    "facility_close.head()"
   ]
  },
  {
   "cell_type": "markdown",
   "metadata": {},
   "source": [
    "## Resource optimization\n"
   ]
  },
  {
   "cell_type": "code",
   "execution_count": null,
   "metadata": {},
   "outputs": [],
   "source": [
    "data_visualization.draw_open_close_facility(AllSt, facility, customer_df)"
   ]
  },
  {
   "cell_type": "markdown",
   "metadata": {},
   "source": [
    "## Final Geographic map showing optimized allocation of facilities"
   ]
  },
  {
   "cell_type": "code",
   "execution_count": null,
   "metadata": {},
   "outputs": [],
   "source": []
  },
  {
   "cell_type": "code",
   "execution_count": null,
   "metadata": {},
   "outputs": [],
   "source": []
  },
  {
   "cell_type": "code",
   "execution_count": null,
   "metadata": {},
   "outputs": [],
   "source": []
  },
  {
   "cell_type": "code",
   "execution_count": null,
   "metadata": {},
   "outputs": [],
   "source": []
  }
 ],
 "metadata": {
  "kernelspec": {
   "display_name": "Python 3 (ipykernel)",
   "language": "python",
   "name": "python3"
  },
  "language_info": {
   "codemirror_mode": {
    "name": "ipython",
    "version": 3
   },
   "file_extension": ".py",
   "mimetype": "text/x-python",
   "name": "python",
   "nbconvert_exporter": "python",
   "pygments_lexer": "ipython3",
   "version": "3.11.1"
  }
 },
 "nbformat": 4,
 "nbformat_minor": 1
}
