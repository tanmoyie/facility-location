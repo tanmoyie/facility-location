{
 "cells": [
  {
   "cell_type": "markdown",
   "source": [
    "# Facility Location demo\n",
    "\n",
    "Outline:\n",
    "1. Data\n",
    "2. Model\n",
    "3. Analysis\n",
    "\n",
    "Input:\n",
    "Output:\n"
   ],
   "metadata": {
    "collapsed": false
   }
  },
  {
   "cell_type": "markdown",
   "source": [
    "# Data"
   ],
   "metadata": {
    "collapsed": false
   }
  },
  {
   "cell_type": "code",
   "execution_count": null,
   "outputs": [],
   "source": [
    "# import custom functions related to our model\n",
    "import model\n",
    "import data_preparation\n",
    "# import libraries\n",
    "import pandas as pd"
   ],
   "metadata": {
    "collapsed": false,
    "pycharm": {
     "is_executing": true
    }
   }
  },
  {
   "cell_type": "markdown",
   "source": [
    "## Data Collection and Cleaning"
   ],
   "metadata": {
    "collapsed": false
   }
  },
  {
   "cell_type": "code",
   "execution_count": null,
   "outputs": [],
   "source": [
    "data_demand =pd.read_excel(\"C:/Data/Major city data.xlsx\")\n"
   ],
   "metadata": {
    "collapsed": false
   }
  },
  {
   "cell_type": "code",
   "execution_count": null,
   "outputs": [],
   "source": [
    "# Show the data map (input of the model)\n"
   ],
   "metadata": {
    "collapsed": false
   }
  },
  {
   "cell_type": "markdown",
   "source": [
    "## Mainland USA and its demands"
   ],
   "metadata": {
    "collapsed": false
   }
  },
  {
   "cell_type": "markdown",
   "source": [
    "### Plot customer and warehouse"
   ],
   "metadata": {
    "collapsed": false
   }
  },
  {
   "cell_type": "code",
   "execution_count": null,
   "outputs": [],
   "source": [
    "#"
   ],
   "metadata": {
    "collapsed": false
   }
  },
  {
   "cell_type": "markdown",
   "source": [
    "## Input Parameters of the model"
   ],
   "metadata": {
    "collapsed": false
   }
  },
  {
   "cell_type": "code",
   "execution_count": null,
   "outputs": [],
   "source": [
    "# Facility\n",
    "facility2['fac_cor'] = facility2['latitude'].astype(str) + ',' + facility2['longitude'].astype(str)\n",
    "# Warehouses list\n",
    "facility2['warehouse_id'] = ['Warehouse ' + str(i) for i in range(1, 1 + facility2.shape[0])]\n",
    "\n",
    "facility2.head()"
   ],
   "metadata": {
    "collapsed": false
   }
  },
  {
   "cell_type": "code",
   "execution_count": null,
   "outputs": [],
   "source": [
    "# Customer\n",
    "customer_df['cus_cor'] = customer_df['latitude'].astype(str) + ',' + customer_df['longitude'].astype(str)\n",
    "# Customers IDs list\n",
    "customer_df['customer_id'] = range(1, 1 + customer_df.shape[0])\n",
    "customer_df.head()"
   ],
   "metadata": {
    "collapsed": false
   }
  },
  {
   "cell_type": "code",
   "execution_count": null,
   "outputs": [],
   "source": [
    "#Parameters\n",
    "#*******************************\n",
    "\n",
    "I = [i for i in range(0, 3849)]                                        # census\n",
    "J = [j for j in range(0, 5)]\n",
    "#N = 45\n",
    "\n",
    "p = round(customer_df['POPULATION'])\n",
    "\n",
    "A = [(i,j) for i in I for j in J]                                   # Arc between pharma and census\n",
    "d_ij = {(i,j): geodesic(Cus_cor[i],Fac_cor[j]).miles for i, j in A }  # Distance between pharma and census\n",
    "\n",
    "# we want to choose 4 from 5 warehouse\n",
    "N = 4"
   ],
   "metadata": {
    "collapsed": false
   }
  },
  {
   "cell_type": "markdown",
   "source": [
    "# Modeling"
   ],
   "metadata": {
    "collapsed": false
   }
  },
  {
   "cell_type": "markdown",
   "source": [
    "## Model 1"
   ],
   "metadata": {
    "collapsed": false
   }
  },
  {
   "cell_type": "code",
   "execution_count": null,
   "outputs": [],
   "source": [
    "# Show the model equation\n"
   ],
   "metadata": {
    "collapsed": false
   }
  },
  {
   "cell_type": "markdown",
   "source": [
    "## Model 2\n",
    "Weiszfelf method"
   ],
   "metadata": {
    "collapsed": false
   }
  },
  {
   "cell_type": "code",
   "execution_count": null,
   "outputs": [],
   "source": [
    "#Take each of 5 warehouse lat and lon\n",
    "cor2=[]\n",
    "for i in range (len(facility2)):\n",
    "   # print(i)\n",
    "    lat = facility2[\"latitude\"][i]\n",
    "    lon = facility2[\"longitude\"][i]\n",
    "    cor2.append([lon, lat])\n",
    "\n",
    "# cor2=[]\n",
    "# for i in range (len(customer_df)):\n",
    "#    # print(i)\n",
    "#     lat = customer_df[\"latitude\"][i]\n",
    "#     lon = customer_df[\"longitude\"][i]\n",
    "#     cor2.append([lon, lat])\n",
    "points = [tuple(x) for x in cor2]\n",
    "lon=np.array([point[0] for point in  points])\n",
    "lat=np.array([point[1] for point in  points])"
   ],
   "metadata": {
    "collapsed": false
   }
  },
  {
   "cell_type": "code",
   "execution_count": null,
   "outputs": [],
   "source": [
    "def weiszfeld(points):\n",
    "\n",
    "    max_error = 0.0000000001\n",
    "\n",
    "    lon=np.array([point[0] for point in  points])\n",
    "    lat=np.array([point[1] for point in  points])\n",
    "\n",
    "\n",
    "    ext_condition = True\n",
    "\n",
    "    start_x = np.average(lon)\n",
    "    start_y = np.average(lat)\n",
    "\n",
    "    while ext_condition:\n",
    "\n",
    "        sod = (((lon - start_x)**2) + ((lat - start_y)**2))**0.5\n",
    "\n",
    "        new_x = sum(lon/sod) / sum(1/sod)\n",
    "        new_y = sum(lat/sod) / sum(1/sod)\n",
    "\n",
    "        ext_condition = (abs(new_x - start_x) > max_error) or (abs(new_y - start_y) > max_error)\n",
    "\n",
    "        start_y = new_y\n",
    "        start_x = new_x\n",
    "\n",
    "        print(new_x, new_y)\n",
    "\n",
    "\n",
    "# if __name__==\"__main__\":\n",
    "#     weiszfeld([(2,1), (12,2), (3,9), (13,11)])"
   ],
   "metadata": {
    "collapsed": false
   }
  },
  {
   "cell_type": "code",
   "execution_count": null,
   "outputs": [],
   "source": [
    "# its a iterative proces and last one is the final coordinate where we will cite new warehouse\n",
    "if __name__==\"__main__\":\n",
    "    weiszfeld(points)\n",
    "# ++"
   ],
   "metadata": {
    "collapsed": false
   }
  },
  {
   "cell_type": "markdown",
   "source": [
    "# Analysis"
   ],
   "metadata": {
    "collapsed": false
   }
  },
  {
   "cell_type": "code",
   "execution_count": null,
   "outputs": [],
   "source": [
    "# decision to open or close warehouse\n",
    "decision = []\n",
    "for var in mdl.getVars():\n",
    "    if \"x\" in var.varName:\n",
    "        if var.xn > 0:\n",
    "            decision.append(\"yes\")\n",
    "        else:\n",
    "            decision.append(\"no\")\n",
    "\n",
    "\n",
    "df3=pd.DataFrame(decision, columns=[\"decisions\"])\n",
    "facility2=pd.concat([facility2, df3], axis=1)\n",
    "#close NY warehouse\n",
    "facility2.head()"
   ],
   "metadata": {
    "collapsed": false
   }
  },
  {
   "cell_type": "markdown",
   "source": [
    "## Resource optimization\n"
   ],
   "metadata": {
    "collapsed": false
   }
  },
  {
   "cell_type": "code",
   "execution_count": null,
   "outputs": [],
   "source": [
    "#Plot open and closed warehouse\n",
    "west = AllSt[AllSt['State_Code'].isin(['WA','OR','CA','ID','UT','MT','WY','CO','NV'])]\n",
    "southwest = AllSt[AllSt['State_Code'].isin(['AZ','NM','TX','OK'])]\n",
    "midwest = AllSt[AllSt['State_Code'].isin(['ND','SD','NE','KS','MN','IA','MO','WI','IL','MI','IN','OH'])]\n",
    "southeast = AllSt[AllSt['State_Code'].isin(['AR','LA','MS','KY','TN','AL','WV','DC','VA','NC','SC','GA','FL'])]\n",
    "northeast = AllSt[AllSt['State_Code'].isin(['ME','VT','NH','MA','CT','RI','NY','PA','NJ','DE','MD'])]\n",
    "\n",
    "us_boundary_map = AllSt.boundary.plot(figsize=(18, 12), color='Black', linewidth=.5)\n",
    "\n",
    "west.plot(ax=us_boundary_map,  color=\"MistyRose\")\n",
    "southwest.plot(ax=us_boundary_map, color=\"PaleGoldenRod\")\n",
    "southeast.plot(ax=us_boundary_map, color=\"Plum\")\n",
    "midwest.plot(ax=us_boundary_map, color=\"PaleTurquoise\")\n",
    "final_map = northeast.plot(ax=us_boundary_map, color=\"LightPink\")\n",
    "\n",
    "\n",
    "# Plot customers as points\n",
    "customer_df.\\\n",
    "    plot(ax=us_boundary_map, marker='*', color='blue', markersize=10, alpha=0.8, label='Customer')\n",
    "\n",
    "# Plot sites to establish\n",
    "facility2.\\\n",
    "    loc[facility2.decisions =='yes'].\\\n",
    "    plot(ax=us_boundary_map, marker='p', color='red', markersize=120, label='Keep')\n",
    "\n",
    "# Plot sites to discard\n",
    "facility2.\\\n",
    "    loc[facility2.decisions =='no'].\\\n",
    "    plot(ax=us_boundary_map, marker='p', color='yellow', markersize=120, label='Discard')\n",
    "\n",
    "# Add title\n",
    "plt.title('Optimized Warehouse Sites')\n",
    "\n",
    "# Add legend\n",
    "plt.legend(title='Warehouse Site', facecolor='white')\n",
    "\n",
    "# Remove ticks from axis\n",
    "plt.xticks([])\n",
    "plt.yticks([])\n",
    "\n",
    "# Show plot\n",
    "plt.show()"
   ],
   "metadata": {
    "collapsed": false
   }
  },
  {
   "cell_type": "markdown",
   "source": [
    "## Final Geographic map showing optimized allocation of facilities"
   ],
   "metadata": {
    "collapsed": false
   }
  },
  {
   "cell_type": "code",
   "execution_count": null,
   "outputs": [],
   "source": [],
   "metadata": {
    "collapsed": false
   }
  },
  {
   "cell_type": "code",
   "execution_count": null,
   "outputs": [],
   "source": [],
   "metadata": {
    "collapsed": false
   }
  },
  {
   "cell_type": "code",
   "execution_count": null,
   "outputs": [],
   "source": [],
   "metadata": {
    "collapsed": false
   }
  },
  {
   "cell_type": "code",
   "execution_count": null,
   "outputs": [],
   "source": [],
   "metadata": {
    "collapsed": false
   }
  }
 ],
 "metadata": {
  "kernelspec": {
   "display_name": "Python 3",
   "language": "python",
   "name": "python3"
  },
  "language_info": {
   "codemirror_mode": {
    "name": "ipython",
    "version": 2
   },
   "file_extension": ".py",
   "mimetype": "text/x-python",
   "name": "python",
   "nbconvert_exporter": "python",
   "pygments_lexer": "ipython2",
   "version": "2.7.6"
  }
 },
 "nbformat": 4,
 "nbformat_minor": 0
}
